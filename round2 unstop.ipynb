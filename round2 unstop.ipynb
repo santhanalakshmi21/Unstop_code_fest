{
  "nbformat": 4,
  "nbformat_minor": 0,
  "metadata": {
    "colab": {
      "provenance": []
    },
    "kernelspec": {
      "name": "python3",
      "display_name": "Python 3"
    },
    "language_info": {
      "name": "python"
    }
  },
  "cells": [
    {
      "cell_type": "code",
      "execution_count": 2,
      "metadata": {
        "colab": {
          "base_uri": "https://localhost:8080/"
        },
        "id": "nv0Dux5kdgvh",
        "outputId": "02c156aa-f003-4eeb-e7ed-c2e07c1c5949"
      },
      "outputs": [
        {
          "output_type": "stream",
          "name": "stdout",
          "text": [
            "Number of molecules with average kinetic energy 1.300 kJ/mol at 298 K: 3.563e+23\n"
          ]
        }
      ],
      "source": [
        "import math\n",
        "\n",
        "\n",
        "kB = 1.38e-23  # Boltzmann constant, J/K\n",
        "NA = 6.022e23  # Avogadro's number, molecules/mol\n",
        "\n",
        "E_avg = 1.3e3  #average energy\n",
        "T = 298  # Temperature, K\n",
        "\n",
        "# Calculate the average kinetic energy per molecule\n",
        "E_kin = E_avg / NA\n",
        "\n",
        "# Calculate the fraction of molecules with kinetic energies greater than or equal to E_kin\n",
        "f = math.exp(-E_kin / (kB * T))\n",
        "\n",
        "# Calculate the number of molecules with kinetic energies equal to or greater than E_kin\n",
        "NO = f * NA\n",
        "\n",
        "# Print the result\n",
        "print(f\"Number of molecules with average kinetic energy {E_avg/1000:.3f} kJ/mol at {T} K: {NO:.3e}\")\n"
      ]
    },
    {
      "cell_type": "code",
      "source": [
        "\n",
        "n = 1.00  # number of moles\n",
        "V = 7.00  # volume, L\n",
        "T = 350  # temperature, K\n",
        "a = 4.17  # van der Waals parameter\n",
        "b = 0.0371  # van der Waals parameter\n",
        "R = 0.08206  # L⋅atm/(mol⋅K)\n",
        "\n",
        "# Calculate the pressure using the van der Waals equation\n",
        "P = (n * R * T) / (V - n * b) - a * n**2 / (V**2)\n",
        "\n",
        "print(f\"The pressure of ammonia is {P:.2f} atm.\")\n"
      ],
      "metadata": {
        "colab": {
          "base_uri": "https://localhost:8080/"
        },
        "id": "E-uisJ8vfPit",
        "outputId": "a7e91c01-d014-4266-a598-8e9654ec71c9"
      },
      "execution_count": 3,
      "outputs": [
        {
          "output_type": "stream",
          "name": "stdout",
          "text": [
            "The pressure of ammonia is 4.04 atm.\n"
          ]
        }
      ]
    },
    {
      "cell_type": "code",
      "source": [
        "import math\n",
        "\n",
        "P1 = 6.91  # Vapor pressure at T1, mmHg\n",
        "T1 = 273.15  # Temperature at P1, K\n",
        "T2 = 378.15  # Temperature at P2, K (normal boiling point)\n",
        "R = 8.314  # Gas constant, J/(mol⋅K)\n",
        "M = 18.01528  # Molar mass of the liquid, g/mol\n",
        "\n",
        "# Convert vapor pressure to Pa\n",
        "P1 = P1 * 133.322  # 1 mmHg = 133.322 Pa\n",
        "\n",
        "# Calculate the heat of vaporization using the Clausius-Clapeyron equation\n",
        "ln_P = math.log(P1) - math.log(101325)  # ln(P1/P2), where P2 = 101325 Pa (standard pressure)\n",
        "dH_vap = -R * T2**2 / M * ln_P / 1000  # in kJ/mol\n",
        "\n",
        "\n",
        "print(f\"The heat of vaporization of the liquid is {dH_vap:.2f} kJ/mol.\")\n"
      ],
      "metadata": {
        "colab": {
          "base_uri": "https://localhost:8080/"
        },
        "id": "ckkuAFM9gcFX",
        "outputId": "0e776a94-4bda-4ae6-fb24-bf468c0447d7"
      },
      "execution_count": 4,
      "outputs": [
        {
          "output_type": "stream",
          "name": "stdout",
          "text": [
            "The heat of vaporization of the liquid is 310.19 kJ/mol.\n"
          ]
        }
      ]
    },
    {
      "cell_type": "code",
      "source": [
        "import math\n",
        "\n",
        "# Input parameters\n",
        "P1 = 1.7  # atm (gauge)\n",
        "T = 15  # °C\n",
        "v1 = 60  # m/s\n",
        "D = 0.075  # m\n",
        "L = 70  # m\n",
        "rho = 7850  # kg/m3 (density of steel)\n",
        "mu = 0.00001716  # Pa.s (viscosity of air at 15°C)\n",
        "\n",
        "# Conversion to SI units\n",
        "P1 *= 101325  # Pa\n",
        "T += 273.15  # K\n",
        "v1 /= 3.28084  # ft/s to m/s\n",
        "D /= 3.28084  # ft to m\n",
        "\n",
        "# Calculation of Reynolds number and friction factor\n",
        "Re = rho * v1 * D / mu\n",
        "f = 0.3164 / Re**0.25\n",
        "\n",
        "# Calculation of pressure drop\n",
        "K = 4*f*L/D\n",
        "Delta_P = K*rho*v1**2/2\n",
        "\n",
        "# Calculation of pressure at discharge end\n",
        "P2 = P1 - Delta_P\n",
        "P2 /= 101325  # Pa to atm (gauge)\n",
        "\n",
        "print(\"The pressure at the discharge end of the pipe is {:.2f} atm (gauge).\".format(P2))\n"
      ],
      "metadata": {
        "colab": {
          "base_uri": "https://localhost:8080/"
        },
        "id": "n1IOKa8hnW6P",
        "outputId": "5ca61452-e65b-4c76-e774-aaa8c975e7e3"
      },
      "execution_count": 14,
      "outputs": [
        {
          "output_type": "stream",
          "name": "stdout",
          "text": [
            "The pressure at the discharge end of the pipe is -425.25 atm (gauge).\n"
          ]
        }
      ]
    },
    {
      "cell_type": "code",
      "source": [
        "import math\n",
        "\n",
        "# Input parameters\n",
        "T1 = 555.6  # Temperature at inlet, K\n",
        "P1 = 20.0  # Pressure at inlet, atm\n",
        "A2 = 2.0  # Area of the divergent section, m^2\n",
        "A1 = 0.5 * A2  # Area of the throat, m^2\n",
        "M = 29.0  # Molar mass of air, g/mol\n",
        "y = 1.4  # Specific heat ratio of air\n",
        "Mn = 0.8  # Mach number at the throat\n",
        "\n",
        "# Convert units\n",
        "T1 = T1 * 1.8  # Convert to R\n",
        "P1 = P1 * 101325 / 14.696  # Convert to Pa\n",
        "\n",
        "# Calculate the speed of sound at T1\n",
        "a1 = math.sqrt(y * R * T1 / M)\n",
        "\n",
        "# Calculate the Mach number at the inlet\n",
        "Ma1 =math.sqrt ((-1)*(2 / (y - 1)) * ((P1 / 101325)**((1 - y) / y) - 1))\n",
        "\n",
        "# Calculate the area ratio at the throat\n",
        "Arat = (1 / Mn) * ((2 / (y + 1)) * (1 + 0.5 * (y - 1) * Ma1**2))**((y + 1) / (2 * (y - 1)))\n",
        "\n",
        "# Calculate the pressure at the throat\n",
        "P2 = P1 / ((1 + 0.5 * (y - 1) * Mn**2)**(y / (y - 1)))\n",
        "\n",
        "# Calculate the temperature at the throat\n",
        "T2 = T1 / (1 + 0.5 * (y - 1) * Mn**2)\n",
        "\n",
        "# Calculate the speed of sound at the throat\n",
        "a2 = math.sqrt(y * R * T2 / M)\n",
        "\n",
        "# Calculate the density at the throat\n",
        "rho2 = P2 * M / (R * T2)\n",
        "\n",
        "# Calculate the linear velocity at the throat\n",
        "u2 = Mn * a2\n",
        "\n",
        "# Calculate the mass velocity at the throat\n",
        "G2 = rho2 * u2 * A2\n",
        "\n",
        "# Calculate the pressure, temperature, linear velocity, and mass velocity corresponding to reservoir conditions\n",
        "Pstar = P1 * ((2 / (y + 1))**(y / (y - 1)))\n",
        "Tstar = T1 * (2 / (y + 1))\n",
        "ustar = a1 * math.sqrt((y / R) * Tstar)\n",
        "Gstar = rho2 * ustar * A1\n",
        "\n",
        "# Print the results\n",
        "print(f\"At the throat:\\nPressure = {P2:.2f} Pa\\nTemperature = {T2:.2f} R\\nLinear velocity = {u2:.2f} m/s\\nDensity = {rho2:.2f} kg/m^3\\nMass velocity = {G2:.2f} kg/s.\")\n",
        "print(f\"At reservoir conditions:\\nPressure = {Pstar:.2f} Pa\\nTemperature = {Tstar:.2f} R\\nLinear velocity = {ustar:.2f} m/s\\nMass velocity = {Gstar:.2f} kg/s.\")\n"
      ],
      "metadata": {
        "colab": {
          "base_uri": "https://localhost:8080/"
        },
        "id": "NHBgOnp3qrqT",
        "outputId": "9b392941-2405-43dd-99d8-0953f84a5e2a"
      },
      "execution_count": 26,
      "outputs": [
        {
          "output_type": "stream",
          "name": "stdout",
          "text": [
            "At the throat:\n",
            "Pressure = 90461.88 Pa\n",
            "Temperature = 886.60 R\n",
            "Linear velocity = 15.09 m/s\n",
            "Density = 355.90 kg/m^3\n",
            "Mass velocity = 10741.89 kg/s.\n",
            "At reservoir conditions:\n",
            "Pressure = 72847.24 Pa\n",
            "Temperature = 833.40 R\n",
            "Linear velocity = 237.34 m/s\n",
            "Mass velocity = 84469.73 kg/s.\n"
          ]
        }
      ]
    },
    {
      "cell_type": "code",
      "source": [
        "import math\n",
        "\n",
        "# Input parameters\n",
        "T1 = 60.6  # °F\n",
        "T2 = 21.1  # °C\n",
        "T3 = 65  # °F\n",
        "T4 = 75  # °F\n",
        "D1 = 0.875  # inches (inner pipe diameter)\n",
        "D2 = 1.5  # inches (outer pipe diameter)\n",
        "v = 5  # ft/s (linear velocity of benzene)\n",
        "k_copper = 236  # Btu/h.ft.°F (thermal conductivity of copper)\n",
        "k_steel = 27.5  # Btu/h.ft.°F (thermal conductivity of steel)\n",
        "\n",
        "# Conversion to SI units\n",
        "T1 = (T1 - 32) * 5/9  # °F to °C\n",
        "T2 += 273.15  # °C to K\n",
        "T3 = (T3 - 32) * 5/9  # °F to °C\n",
        "T4 = (T4 - 32) * 5/9  # °F to °C\n",
        "D1 *= 0.0254  # inches to meters\n",
        "D2 *= 0.0254  # inches to meters\n",
        "v *= 0.3048  # ft/s to m/s\n",
        "k_copper *= 1.731  # Btu/h.ft.°F to W/m.K\n",
        "k_steel *= 1.731  # Btu/h.ft.°F to W/m.K\n",
        "\n",
        "# Calculation of film coefficients\n",
        "Re = 4*v/(math.pi*D1)\n",
        "Pr = 4.1  # for benzene at 20°C\n",
        "Nu = 0.023*Re**0.8 * Pr**0.4\n",
        "h_benzene = Nu*k_copper/D1\n",
        "\n",
        "G = 7.48*0.1337*(T4-T3)/D2\n",
        "mu = 0.00085  # lb/ft.h to Pa.s (viscosity of water at 20°C)\n",
        "mu *= 47.88  # lb/ft.h to g/m.s\n",
        "mu *= 0.001  # g/m.s to Pa.s\n",
        "k = 0.607  # Btu/h.ft.°F to W/m.K (thermal conductivity of water at 20°C)\n",
        "k *= 1.731  # Btu/h.ft.°F to W/m.K\n",
        "Pr = 7.56  # for water at 20°C\n",
        "Nu = 0.023*Re**0.8 * Pr**0.4\n",
        "h_water = Nu*k/D2\n",
        "\n",
        "# Calculation of overall coefficient and LMTD\n",
        "A = math.pi * D1 * (math.pi * D2 - math.pi * D1) * 70  # m^2 (outside area of inner pipe)\n",
        "U = 1/(1/h_benzene + 1/h_water + D1/(k_copper*A) + D2/(k_steel*A))\n",
        "delta_T1 = T1 - T4\n",
        "delta_T2 = T2 - T3\n",
        "LMTD = (delta_T1 - delta_T2)/math.log((-1)*(delta_T1/delta_T2))\n",
        "\n",
        "# Calculation of individual film coefficients\n",
        "h_benzene_inner = U * D2/(D2 - D1)\n",
        "h_water_outer = U * D1/(D2 - D1)\n",
        "\n",
        "print(\"The film coefficient of benzene is {:.2f} W/m^2.K.\".format(h_benzene))\n",
        "print(\"The film coefficient of water is {:.2f} W/m^2.K.\".format(h_water))\n"
      ],
      "metadata": {
        "colab": {
          "base_uri": "https://localhost:8080/"
        },
        "id": "O0lR6E-hqjl6",
        "outputId": "b9bf5404-34ba-45af-9612-e0ab554aedc7"
      },
      "execution_count": 30,
      "outputs": [
        {
          "output_type": "stream",
          "name": "stdout",
          "text": [
            "The film coefficient of benzene is 26549.19 W/m^2.K.\n",
            "The film coefficient of water is 50.88 W/m^2.K.\n"
          ]
        }
      ]
    },
    {
      "cell_type": "code",
      "source": [
        "import math\n",
        "\n",
        "# Given data\n",
        "P = 1.0  # atm\n",
        "D = 2.0  # inches\n",
        "T_i = 68.0  # F\n",
        "T_w = 220.0  # F\n",
        "T_o = 188.0  # F\n",
        "V = 1.5  # ft/s\n",
        "\n",
        "# Convert units to SI\n",
        "D = D * 0.0254  # m\n",
        "T_i = (T_i - 32) * 5 / 9  # C\n",
        "T_w = (T_w - 32) * 5 / 9  # C\n",
        "T_o = (T_o - 32) * 5 / 9  # C\n",
        "V = V * 0.3048  # m/s\n",
        "\n",
        "# Properties of air at average temperature\n",
        "T_avg = (T_i + T_o) / 2\n",
        "rho = P * 101325 / (287.058 * T_avg)  # kg/m^3\n",
        "cp = 1005.0  # J/(kg K)\n",
        "k = 0.0263  # W/(m K)\n",
        "mu = 1.79e-5  # Pa s\n",
        "Pr = cp * mu / k\n",
        "\n",
        "# Heat transfer coefficient\n",
        "Nu = 0.023 * (rho * V * D / mu) ** 0.8 * Pr ** 0.4\n",
        "h = Nu * k / D\n",
        "\n",
        "# Length of heated section\n",
        "q_dot = rho * V * cp * (T_o - T_i)\n",
        "A = math.pi * D ** 2 / 4\n",
        "L = q_dot / (h * A * (T_w - T_i))\n",
        "\n",
        "# Convert length to inches\n",
        "L = L / 0.0254\n",
        "\n",
        "print(\"Length of heated section: {:.2f} inches\".format(L))\n"
      ],
      "metadata": {
        "colab": {
          "base_uri": "https://localhost:8080/"
        },
        "id": "3943IAC5wja3",
        "outputId": "d9df439e-7bef-47ed-b8c6-71e45df4585d"
      },
      "execution_count": 31,
      "outputs": [
        {
          "output_type": "stream",
          "name": "stdout",
          "text": [
            "Length of heated section: 3249150.53 inches\n"
          ]
        }
      ]
    },
    {
      "cell_type": "code",
      "source": [
        "import math\n",
        "T1 = 60.6 + 273.15 # K\n",
        "T2 = 21.1 + 273.15 # K\n",
        "T3 = 18.3 + 273.15 # K\n",
        "T4 = 23.9 + 273.15 # K\n",
        "L = 150 # mm\n",
        "d1 = 22.2 / 1000 # m\n",
        "d2 = 38.1 / 1000 # m\n",
        "v = 1.52 # m/s\n",
        "\n",
        "\n",
        "T_avg = (T1 + T2) / 2\n",
        "T_avg_C = T_avg - 273.15\n",
        "Cp = 126.6 + 0.212 *T_avg_C # J/kg.K\n",
        "rho = 876 # kg/m^3\n",
        "mu = 0.000578 # Pa.s\n",
        "k = 0.146 # W/m.K\n",
        "Pr = (mu*Cp)/k\n",
        "\n",
        "#Calculating properties of water\n",
        "Cpw = 4181 # J/kg.K\n",
        "mu_w = 0.000337 # Pa.s\n",
        "k_w = 0.606 # W/m.K\n",
        "Pr_w = mu_w*Cpw/k_w\n",
        "\n",
        "#Calculating Reynolds number and friction factor for benzene\n",
        "Re = rho*v*d1/mu\n",
        "f = 0.0791*Re**(-0.25)\n",
        "\n",
        "#Calculating Reynolds number and friction factor for water\n",
        "Re_w = 9960.152/mu_w\n",
        "f_w = 0.0791*Re_w**(-0.25)\n",
        "\n",
        "#Calculating heat transfer coefficients\n",
        "hi = (k/d1)*((0.36)*(Re*0.55)*Pr*(1/3))*(mu/mu)**0.14\n",
        "ho = (k_w/d2)*((0.36)*(Re_w*0.55)*Pr_w*(1/3))*(mu_w/mu_w)**0.14\n",
        "Uo = 1/((1/hi)+(1/ho)+(d1/d2)*(d1/d2)*(math.log(d2/d1))/(2*k))\n",
        "\n",
        "#Displaying the results\n",
        "print(f\"Film coefficient of benzene: {hi:.2f} W/m^2.K\")\n",
        "print(f\"Film coefficient of water: {ho:.2f} W/m^2.K\")\n",
        "print(f\"Overall coefficient based on outside area of inner pipe: {Uo:.2f} W/m^2.K\")"
      ],
      "metadata": {
        "colab": {
          "base_uri": "https://localhost:8080/"
        },
        "id": "XEIk1WOKyL_n",
        "outputId": "5675ff8d-3918-4e6d-dd77-e6814a942bcc"
      },
      "execution_count": 39,
      "outputs": [
        {
          "output_type": "stream",
          "name": "stdout",
          "text": [
            "Film coefficient of benzene: 11886.71 W/m^2.K\n",
            "Film coefficient of water: 72138165.45 W/m^2.K\n",
            "Overall coefficient based on outside area of inner pipe: 1.59 W/m^2.K\n"
          ]
        }
      ]
    }
  ]
}